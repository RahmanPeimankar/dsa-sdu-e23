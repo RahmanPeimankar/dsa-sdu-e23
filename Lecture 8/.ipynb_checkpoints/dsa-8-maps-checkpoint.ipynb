{
 "cells": [
  {
   "cell_type": "markdown",
   "metadata": {
    "slideshow": {
     "slide_type": "slide"
    }
   },
   "source": [
    "<center><img src=\"img/dsa-logo.JPG\" width=\"400\"/>\n",
    "\n",
    "***\n",
    "\n",
    "<center>Lecture 8</center>\n",
    "\n",
    "***\n",
    "\n",
    "<center>Priority Queues and Maps</center>  \n",
    "\n",
    "***\n",
    "\n",
    "<center>31 October 2022<center>\n",
    "<center>Rahman Peimankar<center>"
   ]
  },
  {
   "cell_type": "markdown",
   "metadata": {
    "slideshow": {
     "slide_type": "slide"
    }
   },
   "source": [
    "# Agenda"
   ]
  },
  {
   "cell_type": "markdown",
   "metadata": {
    "slideshow": {
     "slide_type": "-"
    }
   },
   "source": [
    "1. The Map ADT\n",
    "2. Exercices"
   ]
  },
  {
   "cell_type": "markdown",
   "metadata": {
    "slideshow": {
     "slide_type": "slide"
    }
   },
   "source": [
    "# Recap of Last Week"
   ]
  },
  {
   "cell_type": "markdown",
   "metadata": {
    "slideshow": {
     "slide_type": "-"
    }
   },
   "source": [
    "## 1. Divide-and-Conquer for Sorting"
   ]
  },
  {
   "cell_type": "markdown",
   "metadata": {
    "slideshow": {
     "slide_type": "-"
    }
   },
   "source": [
    "To sort a sequence S with n elements using the three divide-and-conquer steps, the merge-sort algorithm proceeds as follows:"
   ]
  },
  {
   "cell_type": "markdown",
   "metadata": {
    "slideshow": {
     "slide_type": "fragment"
    }
   },
   "source": [
    "<center>\n",
    "<img src=\"img/Qimage-2-lecture7.JPG\" width=\"900\"/>"
   ]
  },
  {
   "cell_type": "markdown",
   "metadata": {
    "slideshow": {
     "slide_type": "fragment"
    }
   },
   "source": [
    "<center>\n",
    "<img src=\"img/Qimage-3-lecture7.JPG\" width=\"900\"/>"
   ]
  },
  {
   "cell_type": "markdown",
   "metadata": {
    "slideshow": {
     "slide_type": "fragment"
    }
   },
   "source": [
    "<center>\n",
    "<img src=\"img/Qimage-4-lecture7.JPG\" width=\"900\"/>"
   ]
  },
  {
   "cell_type": "markdown",
   "metadata": {
    "slideshow": {
     "slide_type": "slide"
    }
   },
   "source": [
    "<center>\n",
    "<table><tr>\n",
    " \n",
    "<td>\n",
    "    Input sequences processed at each node of T.\n",
    "    <img src=\"img/Qimage-5-lecture7.JPG\" width=\"800\"/></td>\n",
    "\n",
    "<td>\n",
    "    Output sequences generated at each node of T.\n",
    "    <img src=\"img/Qimage-6-lecture7.JPG\" width=\"800\"/>\n",
    "    </td>\n",
    "</tr></table>"
   ]
  },
  {
   "cell_type": "markdown",
   "metadata": {
    "slideshow": {
     "slide_type": "slide"
    }
   },
   "source": [
    "## 2. Array-Based Implementation of Merge-Sort"
   ]
  },
  {
   "cell_type": "code",
   "execution_count": 3,
   "metadata": {
    "slideshow": {
     "slide_type": "-"
    }
   },
   "outputs": [],
   "source": [
    "def merge(S1, S2, S):\n",
    "    \"\"\"Merge two sorted Python lists S1 and S2 into properly sized list S.\"\"\"\n",
    "    i = j = 0\n",
    "    while i + j < len(S):\n",
    "        if j == len(S2) or (i < len(S1) and S1[i] < S2[j]):\n",
    "            S[i+j] = S1[i] # copy ith element of S1 as next item of S\n",
    "            i += 1\n",
    "        else:\n",
    "            S[i+j] = S2[j] # copy jth element of S2 as next item of S\n",
    "            j += 1"
   ]
  },
  {
   "cell_type": "code",
   "execution_count": 4,
   "metadata": {
    "slideshow": {
     "slide_type": "fragment"
    }
   },
   "outputs": [],
   "source": [
    "def merge_sort(S):\n",
    "    \"\"\"Sort the elements of Python list S using the merge-sort algorithm.\"\"\"\n",
    "    n = len(S)\n",
    "    if n < 2:\n",
    "        return # list is already sorted\n",
    "    # divide\n",
    "    mid = n // 2\n",
    "    S1 = S[0:mid] # copy of first half\n",
    "    S2 = S[mid:n] # copy of second half\n",
    "    # conquer (with recursion)\n",
    "    merge_sort(S1) # sort copy of first half\n",
    "    merge_sort(S2) # sort copy of second half\n",
    "    # merge results\n",
    "    merge(S1, S2, S) # merge sorted halves back into S"
   ]
  },
  {
   "cell_type": "markdown",
   "metadata": {
    "slideshow": {
     "slide_type": "slide"
    }
   },
   "source": [
    "## 3. The Running Time of Merge-Sort"
   ]
  },
  {
   "cell_type": "markdown",
   "metadata": {
    "slideshow": {
     "slide_type": "-"
    }
   },
   "source": [
    "<center>\n",
    "<img src=\"img/Qimage-16-lecture7.JPG\" width=\"950\"/>"
   ]
  },
  {
   "cell_type": "markdown",
   "metadata": {
    "slideshow": {
     "slide_type": "slide"
    }
   },
   "source": [
    "## 4. Alternative Implementations of Merge-Sort"
   ]
  },
  {
   "cell_type": "code",
   "execution_count": null,
   "metadata": {
    "slideshow": {
     "slide_type": "-"
    }
   },
   "outputs": [],
   "source": [
    "def merge(S1, S2, S):\n",
    "    \"\"\"Merge two sorted queue instances S1 and S2 into empty queue S.\"\"\"\n",
    "    while not S1.is_empty( ) and not S2.is_empty( ):\n",
    "        if S1.first( ) < S2.first( ):\n",
    "            S.enqueue(S1.dequeue( ))\n",
    "        else:\n",
    "            S.enqueue(S2.dequeue( ))\n",
    "    while not S1.is_empty( ):       # move remaining elements of S1 to S\n",
    "        S.enqueue(S1.dequeue( ))\n",
    "    while not S2.is_empty( ):       # move remaining elements of S2 to S\n",
    "        S.enqueue(S2.dequeue( ))\n",
    "\n",
    "def merge_sort(S):\n",
    "    \"\"\"Sort the elements of queue S using the merge-sort algorithm.\"\"\"\n",
    "    n = len(S)\n",
    "    if n < 2:\n",
    "        return               # list is already sorted\n",
    "    # divide\n",
    "    S1 = LinkedQueue( )      # or any other queue implementation\n",
    "    S2 = LinkedQueue( )\n",
    "    while len(S1) < n // 2:  # move the first n//2 elements to S1\n",
    "        S1.enqueue(S.dequeue( ))\n",
    "    while not S.is_empty( ): # move the rest to S2\n",
    "        S2.enqueue(S.dequeue( ))\n",
    "    # conquer (with recursion)\n",
    "    merge_ort(S1)            # sort first half\n",
    "    merge_ort(S2)            # sort second half\n",
    "    # merge results\n",
    "    merge(S1, S2, S)         # merge sorted halves back into S"
   ]
  },
  {
   "cell_type": "markdown",
   "metadata": {
    "slideshow": {
     "slide_type": "slide"
    }
   },
   "source": [
    "<center>\n",
    "    \n",
    "# 1. The Map ADT"
   ]
  },
  {
   "cell_type": "markdown",
   "metadata": {
    "slideshow": {
     "slide_type": "-"
    }
   },
   "source": [
    "* Python’s **dict** class is arguably the most significant data structure in the language.\n",
    "* It represents an abstraction known as a **dictionary** in which unique **keys** are mapped to associated **values**.\n"
   ]
  },
  {
   "cell_type": "markdown",
   "metadata": {
    "slideshow": {
     "slide_type": "fragment"
    }
   },
   "source": [
    "* Because of the relationship they express between keys and values, dictionaries are commonly known as **associative arrays** or **maps**."
   ]
  },
  {
   "cell_type": "markdown",
   "metadata": {
    "slideshow": {
     "slide_type": "fragment"
    }
   },
   "source": [
    "<center>\n",
    "<img src=\"img/Qimage-5.JPG\" width=\"700\"/>\n",
    "    \n",
    "    A map from countries (the keys) to their units of currency (the values).\n",
    "\n",
    "The keys (the country names) are assumed to be unique, but the values (the currency units) are not necessarily unique."
   ]
  },
  {
   "cell_type": "markdown",
   "metadata": {
    "slideshow": {
     "slide_type": "slide"
    }
   },
   "source": [
    "Common applications of maps:\n",
    "\n",
    "1. A university’s information system relies on some form of a student ID as a key that is mapped to that student’s associated record (such as the student’s name, address, and course grades) serving as the value.\n",
    "\n",
    "\n",
    "2. The domain-name system (DNS)maps a host name, such as www.wiley.com, to an Internet-Protocol (IP) address, such as 208.215.179.146.\n",
    "\n",
    "\n",
    "3. A social media site typically relies on a (nonnumeric) username as a key that can be efficiently mapped to a particular user’s associated information.\n",
    "\n",
    "\n",
    "4. A computer graphics system may map a color name, such as turquoise, to the triple of numbers that describes the color’s RGB (red-green-blue) representation, such as (64,224,208)."
   ]
  },
  {
   "cell_type": "markdown",
   "metadata": {
    "slideshow": {
     "slide_type": "slide"
    }
   },
   "source": [
    "The most significant five behaviors of a map *M* are as follows:\n",
    "\n",
    "<center>\n",
    "<img src=\"img/Qimage-6.JPG\" width=\"700\"/>"
   ]
  },
  {
   "cell_type": "markdown",
   "metadata": {
    "slideshow": {
     "slide_type": "slide"
    }
   },
   "source": [
    "Some additional behaviors:\n",
    "\n",
    "<center>\n",
    "<img src=\"img/Qimage-7.JPG\" width=\"700\"/>"
   ]
  },
  {
   "cell_type": "markdown",
   "metadata": {
    "slideshow": {
     "slide_type": "slide"
    }
   },
   "source": [
    "<center>\n",
    "<img src=\"img/Qimage-8.JPG\" width=\"700\"/>"
   ]
  },
  {
   "cell_type": "markdown",
   "metadata": {
    "slideshow": {
     "slide_type": "slide"
    }
   },
   "source": [
    "The effect of a series of operations on an initially empty map storing items with integer keys and single-character values:\n",
    "\n",
    "\n",
    "<center>\n",
    "<img src=\"img/Qimage-9.JPG\" width=\"900\"/>"
   ]
  },
  {
   "cell_type": "markdown",
   "metadata": {
    "slideshow": {
     "slide_type": "slide"
    }
   },
   "source": [
    "#### Application: Counting Word Frequencies\n",
    "\n",
    "* A program for counting word frequencies in a document, and reporting the most frequent word.\n",
    "* We use Python’s ``dict`` class for the map.\n",
    "* We convert the input to lowercase and ignore any nonalphabetic characters."
   ]
  },
  {
   "cell_type": "code",
   "execution_count": 1,
   "metadata": {},
   "outputs": [
    {
     "name": "stdout",
     "output_type": "stream",
     "text": [
      "The most frequent word is: course\n",
      "Its number of occurrences is: 6\n"
     ]
    }
   ],
   "source": [
    "freq = { }\n",
    "for piece in open('test.txt').read().lower().split():\n",
    "    # only consider alphabetic characters within this piece\n",
    "    word = ''.join(c for c in piece if c.isalpha())\n",
    "\n",
    "    if word: # require at least one alphabetic character\n",
    "        freq[word] = 1 + freq.get(word, 0)\n",
    "\n",
    "max_word = ''\n",
    "max_count = 0\n",
    "for (w,c) in freq.items(): # (key, value) tuples represent (word, count)\n",
    "    if c > max_count:\n",
    "        max_word = w\n",
    "        max_count = c\n",
    "print('The most frequent word is:' , max_word)\n",
    "print('Its number of occurrences is:' , max_count)"
   ]
  },
  {
   "cell_type": "markdown",
   "metadata": {
    "slideshow": {
     "slide_type": "slide"
    }
   },
   "source": [
    "The ``collections`` module provides two **abstract base classes** that are relevant to our current discussion: the ``Mapping`` and ``MutableMapping`` classes."
   ]
  },
  {
   "cell_type": "markdown",
   "metadata": {
    "slideshow": {
     "slide_type": "fragment"
    }
   },
   "source": [
    "* The ``Mapping`` class includes all nonmutating methods supported by Python’s **dict** class.\n",
    "* The ``MutableMapping`` class extends that to include the mutating methods."
   ]
  },
  {
   "cell_type": "markdown",
   "metadata": {
    "slideshow": {
     "slide_type": "fragment"
    }
   },
   "source": [
    "The significance of these **abstract base classes** is that they provide a framework to assist in creating a **user-defined map class**.\n",
    "\n",
    "\n",
    "The ``MutableMapping`` class provides concrete implementations for all behaviors other than the first five:\n",
    "\n",
    "    __getitem__ , __setitem__ , __delitem__ , __len__ , __iter__ \n",
    "   "
   ]
  },
  {
   "cell_type": "markdown",
   "metadata": {
    "slideshow": {
     "slide_type": "fragment"
    }
   },
   "source": [
    "**But what does all these mean?**"
   ]
  },
  {
   "cell_type": "markdown",
   "metadata": {
    "slideshow": {
     "slide_type": "slide"
    }
   },
   "source": [
    "We will be providing many different implementations of the map ADT today and in the next lectures:"
   ]
  },
  {
   "cell_type": "markdown",
   "metadata": {
    "slideshow": {
     "slide_type": "-"
    }
   },
   "source": [
    "<center>\n",
    "<img src=\"img/Qimage-10.JPG\" width=\"900\"/>"
   ]
  },
  {
   "cell_type": "markdown",
   "metadata": {
    "slideshow": {
     "slide_type": "slide"
    }
   },
   "source": [
    "Extending the ``MutableMapping`` abstract base class to provide a nonpublic **_Item** class for use in our various map implementations."
   ]
  },
  {
   "cell_type": "code",
   "execution_count": 3,
   "metadata": {
    "slideshow": {
     "slide_type": "-"
    }
   },
   "outputs": [
    {
     "name": "stderr",
     "output_type": "stream",
     "text": [
      "<ipython-input-3-0c4825a83c5c>:1: DeprecationWarning: Using or importing the ABCs from 'collections' instead of from 'collections.abc' is deprecated since Python 3.3, and in 3.9 it will stop working\n",
      "  from collections import MutableMapping\n"
     ]
    }
   ],
   "source": [
    "from collections import MutableMapping\n",
    "\n",
    "class MapBase(MutableMapping):\n",
    "    \"\"\"Our own abstract base class that includes a nonpublic Item class.\"\"\"\n",
    "\n",
    "#------------------------------- nested Item class -------------------------------\n",
    "    class _Item:\n",
    "        \"\"\"Lightweight composite to store key-value pairs as map items.\"\"\"\n",
    "        __slots__ = '_key' , '_value'\n",
    "\n",
    "        def __init__(self, k, v):\n",
    "            self._key = k\n",
    "            self._value = v\n",
    "\n",
    "        def __eq__(self, other):\n",
    "            return self._key == other._key # compare items based on their keys\n",
    "\n",
    "        def __ne__(self, other):\n",
    "            return not (self == other) # opposite of eq\n",
    "\n",
    "        def __lt__(self, other):\n",
    "            return self._key < other._key # compare items based on their keys"
   ]
  },
  {
   "cell_type": "markdown",
   "metadata": {
    "slideshow": {
     "slide_type": "slide"
    }
   },
   "source": [
    "An implementation of a ``map`` using a Python ``list`` as an unsorted table."
   ]
  },
  {
   "cell_type": "code",
   "execution_count": 6,
   "metadata": {
    "slideshow": {
     "slide_type": "-"
    }
   },
   "outputs": [],
   "source": [
    "class UnsortedTableMap(MapBase):\n",
    "    \"\"\"Map implementation using an unordered list.\"\"\"\n",
    "\n",
    "    def __init__(self):\n",
    "        \"\"\"Create an empty map.\"\"\"\n",
    "        self._table = [ ] # list of Item’s\n",
    "\n",
    "    def __getitem__(self, k):\n",
    "        \"\"\"Return value associated with key k (raise KeyError if not found).\"\"\"\n",
    "        for item in self._table:\n",
    "            if k == item._key:\n",
    "                return item._value\n",
    "        raise KeyError('Key Error:' + repr(k))\n",
    "\n",
    "    def __setitem__(self, k, v):\n",
    "        \"\"\"Assign value v to key k, overwriting existing value if present.\"\"\"\n",
    "        for item in self._table:\n",
    "            if k == item._key: # Found a match:\n",
    "                item._value = v # reassign value\n",
    "        return # and quit\n",
    "        # did not find match for key\n",
    "        self._table.append(self._Item(k,v))\n",
    " "
   ]
  },
  {
   "cell_type": "code",
   "execution_count": 9,
   "metadata": {
    "slideshow": {
     "slide_type": "slide"
    }
   },
   "outputs": [],
   "source": [
    "    def __delitem__(self, k):\n",
    "        \"\"\"Remove item associated with key k (raise KeyError if not found).\"\"\"\n",
    "        for j in range(len(self._table)):\n",
    "            if k == self._table[j]._key: # Found a match:\n",
    "                self._table.pop(j) # remove item\n",
    "        return # and quit\n",
    "        raise KeyError('Key Error:' + repr(k))\n",
    "\n",
    "    def __len__(self):\n",
    "        \"\"\"Return number of items in the map.\"\"\"\n",
    "        return len(self._table)\n",
    "\n",
    "    def __iter__(self):\n",
    "        \"\"\"Generate iteration of the map's keys.\"\"\"\n",
    "        for item in self._table:\n",
    "            yield item._key"
   ]
  },
  {
   "cell_type": "markdown",
   "metadata": {
    "slideshow": {
     "slide_type": "fragment"
    }
   },
   "source": [
    "**Can you please mention any advantages and disadvantages of this ``Unsorted Map`` implementation?**"
   ]
  },
  {
   "cell_type": "markdown",
   "metadata": {
    "slideshow": {
     "slide_type": "slide"
    }
   },
   "source": [
    "<center>\n",
    "    \n",
    "# 2. Exercices"
   ]
  },
  {
   "cell_type": "markdown",
   "metadata": {
    "slideshow": {
     "slide_type": "-"
    }
   },
   "source": [
    "**Ex.1**\n",
    "Give a concrete implementation of the ``items()`` method directly within the ``UnsortedTableMap`` class, ensuring that the entire iteration runs in O(n) time\n"
   ]
  },
  {
   "cell_type": "markdown",
   "metadata": {
    "slideshow": {
     "slide_type": "slide"
    }
   },
   "source": [
    "# Thank you!"
   ]
  }
 ],
 "metadata": {
  "celltoolbar": "Slideshow",
  "kernelspec": {
   "display_name": "Python 3 (ipykernel)",
   "language": "python",
   "name": "python3"
  },
  "language_info": {
   "codemirror_mode": {
    "name": "ipython",
    "version": 3
   },
   "file_extension": ".py",
   "mimetype": "text/x-python",
   "name": "python",
   "nbconvert_exporter": "python",
   "pygments_lexer": "ipython3",
   "version": "3.9.7"
  }
 },
 "nbformat": 4,
 "nbformat_minor": 4
}
