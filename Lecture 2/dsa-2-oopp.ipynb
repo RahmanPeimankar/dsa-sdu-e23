{
 "cells": [
  {
   "cell_type": "code",
   "execution_count": null,
   "metadata": {},
   "outputs": [],
   "source": []
  },
  {
   "cell_type": "code",
   "execution_count": null,
   "metadata": {},
   "outputs": [],
   "source": []
  },
  {
   "cell_type": "markdown",
   "metadata": {
    "slideshow": {
     "slide_type": "slide"
    }
   },
   "source": [
    "<center><img src=\"img/dsa-logo.JPG\" width=\"400\"/>\n",
    "\n",
    "***\n",
    "\n",
    "<center>Lecture 2</center>\n",
    "\n",
    "***\n",
    "\n",
    "<center>Object Oriented Programming Principles</center>  \n",
    "\n",
    "***\n",
    "\n",
    "<center>12 September 2023<center>\n",
    "<center>Rahman Peimankar<center>"
   ]
  },
  {
   "cell_type": "markdown",
   "metadata": {
    "slideshow": {
     "slide_type": "slide"
    }
   },
   "source": [
    "# Agenda"
   ]
  },
  {
   "cell_type": "markdown",
   "metadata": {
    "slideshow": {
     "slide_type": "-"
    }
   },
   "source": [
    "1. Operator Overloading and Python’s Special Methods\n",
    "2. Iterators\n",
    "3. Inheritance\n",
    "4. Shallow and deep copying\n",
    "5. Exercices"
   ]
  },
  {
   "cell_type": "markdown",
   "metadata": {
    "slideshow": {
     "slide_type": "slide"
    }
   },
   "source": [
    "# Recap of Last Week"
   ]
  },
  {
   "cell_type": "markdown",
   "metadata": {
    "slideshow": {
     "slide_type": "-"
    }
   },
   "source": [
    "* Python is an object-oriented language and classes form the basis for all data types.\n",
    "* Python’s built-in classes:\n",
    "\n",
    "<center>\n",
    "<img src=\"img/Qimage-3-lecture1.JPG\" width=\"1200\"/>"
   ]
  },
  {
   "cell_type": "markdown",
   "metadata": {
    "slideshow": {
     "slide_type": "slide"
    }
   },
   "source": [
    "#### Identifiers\n",
    "* Identifiers in Python are case-sensitive.\n",
    "* Identifiers can be composed of almost any combination of letters, numerals, and underscore characters.\n",
    "* An identifier cannot begin with a numeral.\n",
    "* A Python identifier may be assigned to a special object named None.\n",
    "* Although an identifier has no declared type, the object to which it refers has a definite type (**dynamically typed** language)"
   ]
  },
  {
   "cell_type": "markdown",
   "metadata": {
    "slideshow": {
     "slide_type": "fragment"
    }
   },
   "source": [
    "There are 33 pecially reserved words that cannot be used as identifier:\n",
    "\n",
    "<center>\n",
    "<img src=\"img/Qimage-2-lecture1.JPG\" width=\"1200\"/>"
   ]
  },
  {
   "cell_type": "markdown",
   "metadata": {
    "slideshow": {
     "slide_type": "slide"
    }
   },
   "source": [
    "### Expressions and Operators\n",
    "\n",
    "#### Logical Operators\n",
    "<center>\n",
    "<img src=\"img/Qimage-4-lecture1.JPG\" width=\"300\"/>\n",
    "    "
   ]
  },
  {
   "cell_type": "markdown",
   "metadata": {
    "slideshow": {
     "slide_type": "fragment"
    }
   },
   "source": [
    "#### Equality Operators\n",
    "\n",
    "<center>\n",
    "<img src=\"img/Qimage-5-lecture1.JPG\" width=\"300\"/>"
   ]
  },
  {
   "cell_type": "markdown",
   "metadata": {
    "slideshow": {
     "slide_type": "slide"
    }
   },
   "source": [
    "### Conditionals"
   ]
  },
  {
   "cell_type": "code",
   "execution_count": 1,
   "metadata": {
    "slideshow": {
     "slide_type": "-"
    }
   },
   "outputs": [
    {
     "name": "stdout",
     "output_type": "stream",
     "text": [
      "After conditional\n"
     ]
    }
   ],
   "source": [
    "if 'foo' in ['bar', 'baz', 'qux']:\n",
    "    print('Expression was true')\n",
    "    print('Executing statement in suite')\n",
    "    print('...')\n",
    "    print('Done.')\n",
    "print('After conditional')"
   ]
  },
  {
   "cell_type": "markdown",
   "metadata": {
    "slideshow": {
     "slide_type": "fragment"
    }
   },
   "source": [
    "### While loops "
   ]
  },
  {
   "cell_type": "code",
   "execution_count": 2,
   "metadata": {
    "slideshow": {
     "slide_type": "-"
    }
   },
   "outputs": [
    {
     "name": "stdout",
     "output_type": "stream",
     "text": [
      "3\n"
     ]
    }
   ],
   "source": [
    "data = ['A', 'B', 'C', 'X', 'H']\n",
    "j = 0\n",
    "while j < len(data) and data[j] != 'X' :\n",
    "    j += 1\n",
    "print(j)"
   ]
  },
  {
   "cell_type": "markdown",
   "metadata": {
    "slideshow": {
     "slide_type": "fragment"
    }
   },
   "source": [
    "### For loops"
   ]
  },
  {
   "cell_type": "code",
   "execution_count": 3,
   "metadata": {
    "slideshow": {
     "slide_type": "slide"
    }
   },
   "outputs": [
    {
     "name": "stdout",
     "output_type": "stream",
     "text": [
      "12\n"
     ]
    }
   ],
   "source": [
    "data = [1, 5, 4, 2]\n",
    "total = 0\n",
    "for val in data:\n",
    "    total += val\n",
    "print(total)"
   ]
  },
  {
   "cell_type": "markdown",
   "metadata": {
    "slideshow": {
     "slide_type": "slide"
    }
   },
   "source": [
    "### Functions & Passing Multiple Arguments to a Function"
   ]
  },
  {
   "cell_type": "code",
   "execution_count": null,
   "metadata": {
    "slideshow": {
     "slide_type": "-"
    }
   },
   "outputs": [],
   "source": [
    "def my_sum(my_integers):\n",
    "    result = 0\n",
    "    for x in my_integers:\n",
    "        result += x\n",
    "    return result\n",
    "list_of_integers = [1, 2, 3]\n",
    "print(my_sum(list_of_integers))"
   ]
  },
  {
   "cell_type": "markdown",
   "metadata": {
    "slideshow": {
     "slide_type": "fragment"
    }
   },
   "source": [
    "* This implementation works, but when you call this function you will also need to create a list of arguments to pass.\n",
    "* This can be inconvenient, especially if you don’t know up front all the values that should go into the list.\n",
    "* This is where ``*args`` can be really useful, because it allows you to pass a varying number of positional arguments.\n",
    "\n",
    "``*args`` and ``**kwargs`` allow you to pass multiple arguments or keyword arguments to a function.\n",
    "\n",
    "``**kwargs`` works just like ``*args``, but instead of accepting positional arguments it accepts keyword (or **named**) arguments."
   ]
  },
  {
   "cell_type": "code",
   "execution_count": null,
   "metadata": {
    "slideshow": {
     "slide_type": "fragment"
    }
   },
   "outputs": [],
   "source": [
    "def my_sum(*args):\n",
    "    result = 0\n",
    "    # Iterating over the Python args tuple\n",
    "    for x in args:\n",
    "        result += x\n",
    "    return result\n",
    "print(my_sum(1, 2, 3))"
   ]
  },
  {
   "cell_type": "markdown",
   "metadata": {
    "slideshow": {
     "slide_type": "slide"
    }
   },
   "source": [
    "### Python’s Built-In Functions"
   ]
  },
  {
   "cell_type": "markdown",
   "metadata": {
    "slideshow": {
     "slide_type": "-"
    }
   },
   "source": [
    "<center>\n",
    "<img src=\"img/Qimage-15-lecture1.JPG\" width=\"750\"/>"
   ]
  },
  {
   "cell_type": "markdown",
   "metadata": {
    "slideshow": {
     "slide_type": "slide"
    }
   },
   "source": [
    "### Reading from a files & writing to a file"
   ]
  },
  {
   "cell_type": "markdown",
   "metadata": {
    "slideshow": {
     "slide_type": "-"
    }
   },
   "source": [
    "<center>\n",
    "<img src=\"img/Qimage-16-lecture1.JPG\" width=\"950\"/>"
   ]
  },
  {
   "cell_type": "code",
   "execution_count": 6,
   "metadata": {
    "slideshow": {
     "slide_type": "fragment"
    }
   },
   "outputs": [],
   "source": [
    "with open(\"results.txt\", \"w\") as fp:\n",
    "    fp.write(4*'Hello World.\\n')"
   ]
  },
  {
   "cell_type": "code",
   "execution_count": 8,
   "metadata": {},
   "outputs": [],
   "source": [
    "with open(\"results.txt\", \"a\") as fp:\n",
    "    fp.write('My name is Rahman.\\n')"
   ]
  },
  {
   "cell_type": "markdown",
   "metadata": {
    "slideshow": {
     "slide_type": "slide"
    }
   },
   "source": [
    "### Exception Handling"
   ]
  },
  {
   "cell_type": "markdown",
   "metadata": {},
   "source": [
    "<center>\n",
    "<img src=\"img/Qimage-17-lecture1.JPG\" width=\"900\"/>"
   ]
  },
  {
   "cell_type": "markdown",
   "metadata": {
    "slideshow": {
     "slide_type": "slide"
    }
   },
   "source": [
    "### Class Definitions"
   ]
  },
  {
   "cell_type": "code",
   "execution_count": 4,
   "metadata": {
    "slideshow": {
     "slide_type": "-"
    }
   },
   "outputs": [],
   "source": [
    "class CreditCard:\n",
    "    \"\"\"A consumer credit card.\"\"\"\n",
    "\n",
    "    def __init__(self, customer, bank, acnt, limit):\n",
    "        \"\"\"Create a new credit card instance.\n",
    "\n",
    "        The initial balance is zero.\n",
    "\n",
    "        customer     the name of the customer (e.g., 'John Bowman')\n",
    "        bank         the name of the bank (e.g., 'California Savings')\n",
    "        acnt         the acount identifier (e.g., '5391 0375 9387 5309')\n",
    "        limit        credit limit (measured in dollars)\n",
    "        \"\"\"\n",
    "        self._customer = customer\n",
    "        self._bank = bank\n",
    "        self._account = acnt\n",
    "        self._limit = limit\n",
    "        self._balance = 0\n",
    "\n",
    "    def get_customer(self):\n",
    "        \"\"\"Return name of the customer.\"\"\"\n",
    "        return self._customer\n",
    "\n",
    "    def get_bank(self):\n",
    "        \"\"\"Return the bank's name.\"\"\"\n",
    "        return self._bank\n",
    "\n",
    "    def get_account(self):\n",
    "        \"\"\"Return the card identifying number (typically stored as a string).\"\"\"\n",
    "        return self._account\n",
    "\n",
    "    def get_limit(self):\n",
    "        \"\"\"Return current credit limit.\"\"\"\n",
    "        return self._limit\n",
    "\n",
    "    def get_balance(self):\n",
    "        \"\"\"Return current balance.\"\"\"\n",
    "        return self._balance\n",
    "    \n",
    "    def charge(self, price):\n",
    "        \"\"\"Charge given price to the card, assuming sufficient credit limit.\n",
    "    \n",
    "        Return True if charge was processed; False if charge was denied.\n",
    "        \"\"\"\n",
    "        if price + self._balance > self._limit: # if charge would exceed limit,\n",
    "            return False # cannot accept charge\n",
    "        else:\n",
    "            self._balance += price\n",
    "        return True\n",
    "\n",
    "    def make_payment(self, amount):\n",
    "        \"\"\"Process customer payment that reduces balance.\"\"\"\n",
    "        self._balance -= amount"
   ]
  },
  {
   "cell_type": "markdown",
   "metadata": {
    "slideshow": {
     "slide_type": "slide"
    }
   },
   "source": [
    "**Quiz 1**\n",
    "\n",
    "----- is a python special method used to initialize the values of instance members for the new object.\n",
    "\n",
    "1) ``__self__``\n",
    "\n",
    "2) ``__call__``\n",
    "\n",
    "3) ``__add__``\n",
    "\n",
    "4) ``__init__``\n",
    "\n",
    "Please answer here: https://PollEv.com/multiple_choice_polls/PPCzqvrqCHLRuVtLAu5eo/respond\n"
   ]
  },
  {
   "cell_type": "markdown",
   "metadata": {
    "slideshow": {
     "slide_type": "slide"
    }
   },
   "source": [
    "**Quiz 2**\n",
    "\n",
    "----- is a used to access the attributes and methods of the class in python.\n",
    "\n",
    "1) ``__self__``\n",
    "\n",
    "2) ``__call__``\n",
    "\n",
    "3) ``__yield__``\n",
    "\n",
    "4) ``__init__``\n",
    "\n",
    "Please answer here: https://PollEv.com/multiple_choice_polls/kskjL4I8NKUhHI0qOOoIq/respond"
   ]
  },
  {
   "cell_type": "markdown",
   "metadata": {
    "slideshow": {
     "slide_type": "slide"
    }
   },
   "source": [
    "<center>\n",
    "    \n",
    "# 1. Operator Overloading and Python’s Special Methods"
   ]
  },
  {
   "cell_type": "markdown",
   "metadata": {
    "slideshow": {
     "slide_type": "-"
    }
   },
   "source": [
    "* The syntax a + b invokes addition for numeric types, yet concatenation for sequence types.\n",
    "* When defining a new class, we must consider whether a syntax like a + b should be defined when a or b is an instance of that class.\n",
    "* By default, the + operator is undefined for a new class.\n",
    "* The author of a class may provide a definition using a technique known as **_operator overloading_**.\n",
    "* This is done by implementing a specially named method."
   ]
  },
  {
   "cell_type": "markdown",
   "metadata": {
    "slideshow": {
     "slide_type": "fragment"
    }
   },
   "source": [
    "In particular, the ``+`` operator is overloaded by implementing a method named ``__add__``, which takes the right-hand operand as a parameter and which returns the result of the expression.\n",
    "\n",
    "The syntax, ``a + b``, is converted to a method call on object a of the form, ``a.__add__(b)``."
   ]
  },
  {
   "cell_type": "markdown",
   "metadata": {
    "slideshow": {
     "slide_type": "slide"
    }
   },
   "source": [
    "<center>\n",
    "<img src=\"img/Qimage-1.JPG\" width=\"700\"/>"
   ]
  },
  {
   "cell_type": "markdown",
   "metadata": {
    "slideshow": {
     "slide_type": "slide"
    }
   },
   "source": [
    "### Example: Multidimensional Vector Class"
   ]
  },
  {
   "cell_type": "code",
   "execution_count": 60,
   "metadata": {
    "slideshow": {
     "slide_type": "-"
    }
   },
   "outputs": [
    {
     "name": "stdout",
     "output_type": "stream",
     "text": [
      "list adding: [5, -2, 3, 1, 4, 2]\n"
     ]
    }
   ],
   "source": [
    "print('list adding: {}'.format([5, -2, 3] + [1, 4, 2]))"
   ]
  },
  {
   "cell_type": "markdown",
   "metadata": {
    "slideshow": {
     "slide_type": "fragment"
    }
   },
   "source": [
    "However, when working with vectors, if ``u = <5,−2, 3>`` and ``v = <1, 4, 2>``, one would expect the expression, ``u + v``, to return a three-dimensional vector with coordinates ``<6, 2, 5>``."
   ]
  },
  {
   "cell_type": "markdown",
   "metadata": {
    "slideshow": {
     "slide_type": "fragment"
    }
   },
   "source": [
    "* We therefore define a Vector class that provides a better abstraction for the notion of a geometric vector."
   ]
  },
  {
   "cell_type": "code",
   "execution_count": 11,
   "metadata": {
    "slideshow": {
     "slide_type": "slide"
    }
   },
   "outputs": [],
   "source": [
    "class Vector:\n",
    "    \"\"\"Represent a vector in a multidimensional space.\"\"\"\n",
    "\n",
    "    def __init__(self, d):\n",
    "        \"\"\"Create d-dimensional vector of zeros.\"\"\"\n",
    "        self._coords = [0] * d\n",
    "\n",
    "    def __len__(self):\n",
    "        \"\"\"Return the dimension of the vector.\"\"\"\n",
    "        return len(self._coords)\n",
    "\n",
    "    def __getitem__(self, j):\n",
    "        \"\"\"Return jth coordinate of vector.\"\"\"\n",
    "        return self._coords[j]\n",
    "\n",
    "    def __setitem__(self, j, val):\n",
    "        \"\"\"Set jth coordinate of vector to given value.\"\"\"\n",
    "        self._coords[j] = val\n",
    "\n",
    "    def __add__(self, other):\n",
    "        \"\"\"Return sum of two vectors.\"\"\"\n",
    "        if len(self) != len(other): # relies on len method\n",
    "            raise ValueError('dimensions must agree')\n",
    "        result = Vector(len(self)) # start with vector of zeros\n",
    "        for j in range(len(self)):\n",
    "            result[j] = self[j] + other[j]\n",
    "        return result\n",
    "\n",
    "    def __eq__(self, other):\n",
    "        \"\"\"Return True if vector has same coordinates as other.\"\"\"\n",
    "        return self._coords == other._coords\n",
    "\n",
    "    def __ne__(self, other):\n",
    "        \"\"\"Return True if vector differs from other.\"\"\"\n",
    "        return not self == other # rely on existing eq definition\n",
    "\n",
    "    def __str__(self):\n",
    "        \"\"\"Produce string representation of vector.\"\"\"\n",
    "        return '<' + str(self._coords)[1:-1] + '>' # adapt list representation"
   ]
  },
  {
   "cell_type": "markdown",
   "metadata": {
    "slideshow": {
     "slide_type": "slide"
    }
   },
   "source": [
    "* Internally, our vector relies upon an instance of a list, named coords, as its storage mechanism.\n",
    "* By keeping the internal list encapsulated, we can enforce the desired public interface for instances of our class.\n",
    "* A demonstration of supported behaviors includes the following:"
   ]
  },
  {
   "cell_type": "code",
   "execution_count": 28,
   "metadata": {
    "slideshow": {
     "slide_type": "-"
    }
   },
   "outputs": [
    {
     "name": "stdout",
     "output_type": "stream",
     "text": [
      "<0, 0, 0, 0, 0>\n"
     ]
    }
   ],
   "source": [
    "v = Vector(5)        # construct five-dimensional <0, 0, 0, 0, 0>\n",
    "print(v)"
   ]
  },
  {
   "cell_type": "code",
   "execution_count": 29,
   "metadata": {
    "slideshow": {
     "slide_type": "fragment"
    }
   },
   "outputs": [
    {
     "name": "stdout",
     "output_type": "stream",
     "text": [
      "<0, 23, 0, 0, 0>\n",
      "<0, 23, 0, 0, 45>\n"
     ]
    }
   ],
   "source": [
    "v[1] = 23            # (based on use of setitem )\n",
    "print(v)\n",
    "\n",
    "v[-1] = 45           # (also via setitem )\n",
    "print(v)"
   ]
  },
  {
   "cell_type": "code",
   "execution_count": 30,
   "metadata": {
    "slideshow": {
     "slide_type": "fragment"
    }
   },
   "outputs": [
    {
     "name": "stdout",
     "output_type": "stream",
     "text": [
      "<0, 46, 0, 0, 90>\n"
     ]
    }
   ],
   "source": [
    "u = v + v           # (via add )\n",
    "print(u)"
   ]
  },
  {
   "cell_type": "code",
   "execution_count": 31,
   "metadata": {
    "slideshow": {
     "slide_type": "fragment"
    }
   },
   "outputs": [
    {
     "name": "stdout",
     "output_type": "stream",
     "text": [
      "68\n"
     ]
    }
   ],
   "source": [
    "total = 0\n",
    "for entry in v: # implicit iteration via len and getitem\n",
    "    total += entry\n",
    "print(total)"
   ]
  },
  {
   "cell_type": "markdown",
   "metadata": {
    "slideshow": {
     "slide_type": "fragment"
    }
   },
   "source": [
    "* We implement many of the behaviors by trivially invoking a similar behavior on the underlying list of coordinates.\n",
    "* However, our implementation of ``__add__`` is customized."
   ]
  },
  {
   "cell_type": "markdown",
   "metadata": {
    "slideshow": {
     "slide_type": "slide"
    }
   },
   "source": [
    "### polymorphism"
   ]
  },
  {
   "cell_type": "markdown",
   "metadata": {
    "slideshow": {
     "slide_type": "-"
    }
   },
   "source": [
    "* It is interesting to note that the class definition, as given in class Vector, automatically supports the syntax ``u = v + [5, 3, 10, −2, 1]``.\n",
    "* This results in a new vector that is the element-by-element “sum” of the first vector and the **list** instance."
   ]
  },
  {
   "cell_type": "code",
   "execution_count": 61,
   "metadata": {
    "slideshow": {
     "slide_type": "fragment"
    }
   },
   "outputs": [
    {
     "name": "stdout",
     "output_type": "stream",
     "text": [
      "<5, 26, 10, -2, 46>\n"
     ]
    }
   ],
   "source": [
    "print(v + [5, 3, 10, -2, 1])"
   ]
  },
  {
   "cell_type": "markdown",
   "metadata": {
    "slideshow": {
     "slide_type": "fragment"
    }
   },
   "source": [
    "* This is a result of Python’s polymorphism.\n",
    "* Literally, **_polymorphism_** means **_many forms_**."
   ]
  },
  {
   "cell_type": "markdown",
   "metadata": {
    "slideshow": {
     "slide_type": "slide"
    }
   },
   "source": [
    "<center>\n",
    "    \n",
    "# 2. Iterators"
   ]
  },
  {
   "cell_type": "markdown",
   "metadata": {
    "slideshow": {
     "slide_type": "-"
    }
   },
   "source": [
    "* Iteration is an important concept in the design of data structures.\n",
    "* In short, an **iterator** for a collection provides one key behavior:\n",
    "\n",
    "    - It supports a special method named ``__next__`` that returns the next element of the collection, if any, or\n",
    "    - raises a ``StopIteration`` exception to indicate that there are no further elements."
   ]
  },
  {
   "cell_type": "markdown",
   "metadata": {
    "slideshow": {
     "slide_type": "fragment"
    }
   },
   "source": [
    "1. Fortunately, it is rare to have to directly implement an iterator class. Our preferred approach is the use of the **generator** syntax, which automatically produces an iterator of yielded values.\n",
    "\n",
    "2. Python also helps by providing an automatic iterator implementation for any class that defines both ``__len__`` and ``__getitem__``."
   ]
  },
  {
   "cell_type": "markdown",
   "metadata": {
    "slideshow": {
     "slide_type": "slide"
    }
   },
   "source": [
    "To provide an instructive example of a low-level iterator, code below demonstrates just such an iterator class that works on any collection that supports both ``__len__`` and ``__getitem__``."
   ]
  },
  {
   "cell_type": "code",
   "execution_count": 37,
   "metadata": {
    "slideshow": {
     "slide_type": "-"
    }
   },
   "outputs": [],
   "source": [
    "class SequenceIterator:\n",
    "    \"\"\"An iterator for any of Python s sequence types.\"\"\"\n",
    "\n",
    "    def __init__(self, sequence):\n",
    "        \"\"\"Create an iterator for the given sequence.\"\"\"\n",
    "        self._seq = sequence # keep a reference to the underlying data\n",
    "        self._k = -1 # will increment to 0 on first call to next\n",
    "\n",
    "    def __next__(self):\n",
    "        \"\"\"Return the next element, or else raise StopIteration error.\"\"\"\n",
    "        self._k += 1 # advance to next index\n",
    "        if self._k < len(self._seq):\n",
    "            return(self._seq[self._k]) # return the data element\n",
    "        else:\n",
    "            raise StopIteration() # there are no more elements\n",
    "\n",
    "    def __iter__(self):\n",
    "        \"\"\"By convention, an iterator must return itself as an iterator.\"\"\"\n",
    "        return self"
   ]
  },
  {
   "cell_type": "markdown",
   "metadata": {
    "slideshow": {
     "slide_type": "slide"
    }
   },
   "source": [
    "### Example: Range Class"
   ]
  },
  {
   "cell_type": "markdown",
   "metadata": {
    "slideshow": {
     "slide_type": "-"
    }
   },
   "source": [
    "* We develop our own implementation of a class that mimics Python’s built-in ``range`` class."
   ]
  },
  {
   "cell_type": "code",
   "execution_count": 14,
   "metadata": {
    "slideshow": {
     "slide_type": "fragment"
    }
   },
   "outputs": [
    {
     "name": "stdout",
     "output_type": "stream",
     "text": [
      "1\n",
      "3\n",
      "5\n",
      "7\n",
      "supports __len__ method behaviour: 4\n",
      "supports __getitem__ method behaviour: 3\n"
     ]
    }
   ],
   "source": [
    "for k in range(1, 9, 2):\n",
    "    print(k)\n",
    "\n",
    "r = range(1, 9, 2)\n",
    "print('supports __len__ method behaviour: {}'.format(len(r)))\n",
    "print('supports __getitem__ method behaviour: {}'.format(r[1]))"
   ]
  },
  {
   "cell_type": "code",
   "execution_count": 51,
   "metadata": {
    "slideshow": {
     "slide_type": "slide"
    }
   },
   "outputs": [],
   "source": [
    "class Range:\n",
    "    \"\"\"A class that mimic s the built-in range class.\"\"\"\n",
    "\n",
    "    def __init__(self, start, stop=None, step=1):\n",
    "        \"\"\"Initialize a Range instance.\n",
    "\n",
    "            Semantics is similar to built-in range class.\n",
    "        \"\"\"\n",
    "        if step == 0:\n",
    "            raise ValueError('step cannot be 0')\n",
    "\n",
    "        if stop is None:             # special case of range(n)\n",
    "            start, stop = 0, start   # should be treated as if range(0,n)\n",
    "\n",
    "        # calculate the effective length once\n",
    "        self._length = max(0, (stop - start + step - 1) // step)\n",
    "\n",
    "        # need knowledge of start and step (but not stop) to support getitem\n",
    "        self._start = start\n",
    "        self._step = step\n",
    "\n",
    "    def __len__(self):\n",
    "        \"\"\"Return number of entries in the range.\"\"\"\n",
    "        return self._length\n",
    "\n",
    "    def __getitem__(self, k):\n",
    "        \"\"\"Return entry at index k (using standard interpretation if negative).\"\"\"\n",
    "        if k < 0:\n",
    "            k += len(self) # attempt to convert negative index\n",
    "\n",
    "        if not 0 <= k < self._length:\n",
    "            raise IndexError('index out of range')\n",
    "\n",
    "        return self._start + k * self._step\n",
    "    "
   ]
  },
  {
   "cell_type": "markdown",
   "metadata": {
    "slideshow": {
     "slide_type": "slide"
    }
   },
   "source": [
    "<center>\n",
    "    \n",
    "# 3. Inheritance"
   ]
  },
  {
   "cell_type": "markdown",
   "metadata": {
    "slideshow": {
     "slide_type": "-"
    }
   },
   "source": [
    "* A natural way to organize various structural components of a software package is in a hierarchical fashion.\n",
    "\n",
    "<center>\n",
    "<img src=\"img/Qimage-3.JPG\" width=\"1200\"/>"
   ]
  },
  {
   "cell_type": "markdown",
   "metadata": {
    "slideshow": {
     "slide_type": "fragment"
    }
   },
   "source": [
    "* A hierarchical design is useful in software development.\n",
    "* Common functionality can be grouped at the most general level, thereby promoting reuse of code.\n",
    "\n",
    "\n",
    "In object-oriented programming, the mechanism for a modular and hierarchical organization is a technique known as **_inheritance_**."
   ]
  },
  {
   "cell_type": "markdown",
   "metadata": {
    "slideshow": {
     "slide_type": "slide"
    }
   },
   "source": [
    "* In object-oriented terminology, the existing class is typically described as the **_base class_**, **_parent class_**, or **_superclass_**, while the newly defined class is known as the **_subclass_** or **_child class_**.\n",
    "* There are two ways in which a subclass can differentiate itself from its superclass:\n",
    "    1. A subclass may **_specialize_** an existing behavior by providing a new implementation that **_overrides_** an existing method.\n",
    "    2. A subclass may also **_extend_** its superclass by providing brand new methods."
   ]
  },
  {
   "cell_type": "markdown",
   "metadata": {
    "slideshow": {
     "slide_type": "fragment"
    }
   },
   "source": [
    "#### Python’s Exception Hierarchy\n",
    "\n",
    "<center>\n",
    "<img src=\"img/Qimage-4.JPG\" width=\"1000\"/>"
   ]
  },
  {
   "cell_type": "markdown",
   "metadata": {
    "slideshow": {
     "slide_type": "slide"
    }
   },
   "source": [
    "### Extending the CreditCard Class"
   ]
  },
  {
   "cell_type": "markdown",
   "metadata": {
    "slideshow": {
     "slide_type": "-"
    }
   },
   "source": [
    "* To demonstrate the mechanisms for inheritance in Python, we implement a subclass that is named ``PredatoryCreditCard``.\n",
    "* The new class will differ from the original in two ways:\n",
    "    1. if an attempted charge is rejected because it would have exceeded the credit limit, a $5 fee will be charged.\n",
    "    2. there will be a mechanism for assessing a monthly interest charge on the outstanding balance, based upon an Annual Percentage Rate (APR) specified as a constructor parameter."
   ]
  },
  {
   "cell_type": "markdown",
   "metadata": {
    "slideshow": {
     "slide_type": "fragment"
    }
   },
   "source": [
    "To accomplishing this, we demonstrate the techniques of **_specialization_** and **_extension_**.\n",
    "\n",
    "* To charge a fee for an invalid charge attempt, we override the existing charge method, thereby specializing it to provide the new functionality.\n",
    "* To provide support for charging interest, we extend the class with a new method named ``process_month``."
   ]
  },
  {
   "cell_type": "markdown",
   "metadata": {
    "slideshow": {
     "slide_type": "slide"
    }
   },
   "source": [
    "Figure below provides an overview of our use of inheritance in designing the new ``PredatoryCreditCard`` class\n",
    "\n",
    "<center>\n",
    "<img src=\"img/Qimage-5.JPG\" width=\"900\"/>"
   ]
  },
  {
   "cell_type": "markdown",
   "metadata": {
    "slideshow": {
     "slide_type": "slide"
    }
   },
   "source": [
    "To indicate that the new class inherits from the existing ``CreditCard`` class, our definition begins with the syntax, ``class PredatoryCreditCard(CreditCard)``."
   ]
  },
  {
   "cell_type": "code",
   "execution_count": 52,
   "metadata": {
    "slideshow": {
     "slide_type": "-"
    }
   },
   "outputs": [],
   "source": [
    "class PredatoryCreditCard(CreditCard):\n",
    "    \"\"\"An extension to CreditCard that compounds interest and fees.\"\"\"\n",
    "\n",
    "    def __init__(self, customer, bank, acnt, limit, apr):\n",
    "        \"\"\"Create a new predatory credit card instance.\n",
    "\n",
    "        The initial balance is zero.\n",
    "\n",
    "        customer the name of the customer (e.g., John Bowman )\n",
    "        bank the name of the bank (e.g., California Savings )\n",
    "        acnt the acount identifier (e.g., 5391 0375 9387 5309 )\n",
    "        limit credit limit (measured in dollars)\n",
    "        apr annual percentage rate (e.g., 0.0825 for 8.25% APR)\n",
    "        \"\"\"\n",
    "        super().__init__(customer, bank, acnt, limit) # call super constructor\n",
    "        self._apr = apr"
   ]
  },
  {
   "cell_type": "code",
   "execution_count": null,
   "metadata": {
    "slideshow": {
     "slide_type": "slide"
    }
   },
   "outputs": [],
   "source": [
    "    def __charge__(self, price):\n",
    "        \"\"\"Charge given price to the card, assuming sufficient credit limit.\n",
    "\n",
    "        Return True if charge was processed.\n",
    "        Return False and assess $5 fee if charge is denied.\n",
    "        \"\"\"\n",
    "        success = super().charge(price) # call inherited method\n",
    "        if not success:\n",
    "            self._balance += 5 # assess penalty\n",
    "        return success # caller expects return value\n",
    "\n",
    "    def process_month(self):\n",
    "        \"\"\"Assess monthly interest on outstanding balance.\"\"\"\n",
    "        if self._balance > 0:\n",
    "            # if positive balance, convert APR to monthly multiplicative factor\n",
    "            monthly_factor = pow(1 + self._apr, 1/12)\n",
    "            self._balance = monthly_factor"
   ]
  },
  {
   "cell_type": "markdown",
   "metadata": {
    "slideshow": {
     "slide_type": "slide"
    }
   },
   "source": [
    "* The ``__init__`` constructor serves a very similar role to the original ``CreditCard`` constructor, except that for our new class, there is an extra parameter to specify the **_annual percentage rate_**.\n",
    "* The body of our new constructor relies upon making a call to the inherited constructor to perform most of the initialization (in fact, everything other than the recording of the percentage rate).\n",
    "* The mechanism for calling the inherited constructor relies on the syntax, ``super().__init__(customer, bank, acnt, limit)``."
   ]
  },
  {
   "cell_type": "markdown",
   "metadata": {
    "slideshow": {
     "slide_type": "fragment"
    }
   },
   "source": [
    "* Our ``PredatoryCreditCard`` class provides a new implementation of the charge method that overrides the inherited method.\n",
    "* Yet, our implementation of the new method relies on a call to the inherited method, with syntax ``super( ).charge(price)``."
   ]
  },
  {
   "cell_type": "markdown",
   "metadata": {
    "slideshow": {
     "slide_type": "slide"
    }
   },
   "source": [
    "**Quiz 3**\n",
    "\n",
    "``Super()`` class method is used to\n",
    "\n",
    "1) Invoke immediate child class methods\n",
    "\n",
    "2) Invoke immediate child class overridden method\n",
    "\n",
    "3) Invoke immediate parent class overridden method\n",
    "\n",
    "4) Invoke immediate parent class constructor\n",
    "\n",
    "5) Both 1 & 2\n",
    "\n",
    "6) Both 3 & 4\n",
    "\n",
    "Please answer here: https://PollEv.com/multiple_choice_polls/sHoe4s0bK1At71gXAkprr/respond"
   ]
  },
  {
   "cell_type": "markdown",
   "metadata": {
    "slideshow": {
     "slide_type": "fragment"
    }
   },
   "source": [
    "**Please study Section 2.4.2 (Hierarchy of Numeric Progressions) from the reference book.**"
   ]
  },
  {
   "cell_type": "markdown",
   "metadata": {
    "slideshow": {
     "slide_type": "slide"
    }
   },
   "source": [
    "### Protected Members"
   ]
  },
  {
   "cell_type": "markdown",
   "metadata": {
    "slideshow": {
     "slide_type": "-"
    }
   },
   "source": [
    "* Our ``PredatoryCreditCard`` subclass directly accesses the data member ``self._balance``, which was established by the parent ``CreditCard`` class.\n",
    "* This is a nonpublic member, so we might ask if it is okay that we access it in this fashion.\n",
    "    - The answer is general users of the class should not be doing so.\n",
    "    - But our subclass has a somewhat privileged relationship with the superclass."
   ]
  },
  {
   "cell_type": "markdown",
   "metadata": {
    "slideshow": {
     "slide_type": "fragment"
    }
   },
   "source": [
    "**Note:** Python does not support formal access control like other OOP languages, but names beginning with a **_single underscore_** are conventionally considered to **_protected_**, while names beginning with a **_double underscore_** (other than special methods) are considered to **_private_**."
   ]
  },
  {
   "cell_type": "markdown",
   "metadata": {
    "slideshow": {
     "slide_type": "fragment"
    }
   },
   "source": [
    "**Discussion:**\n",
    "\n",
    "How can we improve the design of the ``PredatoryCreditCard`` subclass to avoid using **_protected_** data from ``CreditCard`` class."
   ]
  },
  {
   "cell_type": "markdown",
   "metadata": {
    "slideshow": {
     "slide_type": "slide"
    }
   },
   "source": [
    "### Abstract Base Classes"
   ]
  },
  {
   "cell_type": "markdown",
   "metadata": {
    "slideshow": {
     "slide_type": "-"
    }
   },
   "source": [
    "**_Definition_**: When defining a group of classes as part of an inheritance hierarchy, one technique for avoiding repetition of code is to design a base class with common functionality that can be inherited by other classes that need it."
   ]
  },
  {
   "cell_type": "markdown",
   "metadata": {
    "slideshow": {
     "slide_type": "fragment"
    }
   },
   "source": [
    "<center>\n",
    "<img src=\"img/Qimage-6.JPG\" width=\"1100\"/>"
   ]
  },
  {
   "cell_type": "markdown",
   "metadata": {
    "slideshow": {
     "slide_type": "-"
    }
   },
   "source": [
    "``Progression`` class serves as a **_base_** class for three distinct subclasses: ``ArithmeticProgression``, ``GeometricProgression``, and ``FibonacciProgression``."
   ]
  },
  {
   "cell_type": "markdown",
   "metadata": {
    "slideshow": {
     "slide_type": "slide"
    }
   },
   "source": [
    "### Another example"
   ]
  },
  {
   "cell_type": "markdown",
   "metadata": {
    "slideshow": {
     "slide_type": "-"
    }
   },
   "source": [
    "* The ``collections.Sequence`` **_abstract base class_** defines behaviors common to Python’s list, str, and tuple classes, as sequences that support element access via an integer index.\n",
    "\n",
    "* The ``collections.Sequence`` class provides concrete implementations of methods, ``count``, ``index``, and ``__contains__`` that can be inherited by any class that provides concrete implementations of both ``__len__`` and ``__getitem__``."
   ]
  },
  {
   "cell_type": "code",
   "execution_count": 59,
   "metadata": {
    "slideshow": {
     "slide_type": "slide"
    }
   },
   "outputs": [],
   "source": [
    "from abc import ABCMeta, abstractmethod               # need these definitions\n",
    "\n",
    "class Sequence(metaclass=ABCMeta):\n",
    "    \"\"\"Our own version of collections.Sequence abstract base class.\"\"\"\n",
    "\n",
    "    @abstractmethod\n",
    "    def __len__(self):\n",
    "        \"\"\"Return the length of the sequence.\"\"\"\n",
    "\n",
    "    @abstractmethod\n",
    "    def __getitem__(self, j):\n",
    "        \"\"\"Return the element at index j of the sequence.\"\"\"\n",
    "\n",
    "    def __contains__(self, val):\n",
    "        \"\"\"Return True if val found in the sequence; False otherwise.\"\"\"\n",
    "        for j in range(len(self)):\n",
    "            if self[j] == val:                         # found match\n",
    "                return True\n",
    "        return False\n",
    "\n",
    "    def index(self, val):\n",
    "        \"\"\"Return leftmost index at which val is found (or raise ValueError).\"\"\"\n",
    "        for j in range(len(self)):\n",
    "            if self[j] == val:                         # leftmost match\n",
    "                return j\n",
    "        raise ValueError('value not in sequence')          # never found a match\n",
    "\n",
    "    def count(self, val):\n",
    "        \"\"\"Return the number of elements equal to given value.\"\"\"\n",
    "        k = 0\n",
    "        for j in range(len(self)):\n",
    "            if self[j] == val:                         # found a match\n",
    "                k += 1\n",
    "        return k"
   ]
  },
  {
   "cell_type": "markdown",
   "metadata": {
    "slideshow": {
     "slide_type": "slide"
    }
   },
   "source": [
    "This implementation relies on two advanced Python techniques:\n",
    "1. The first is that we declare the ``ABCMeta`` class of the ``abc`` module as a **_metaclass_** of our ``Sequence`` class.\n",
    "      - A metaclass is different from a superclass, in that it provides a template for the class definition itself.\n",
    "      - Specifically, the ``ABCMeta`` declaration assures that the constructor for the class raises an error.\n",
    "    \n"
   ]
  },
  {
   "cell_type": "markdown",
   "metadata": {
    "slideshow": {
     "slide_type": "fragment"
    }
   },
   "source": [
    "2. The second advanced technique is the use of the ``@abstractmethod`` decorator.\n",
    "      - This declares these two particular methods to be abstract, meaning that we do not provide an implementation within our ``Sequence`` base class, but that we expect any concrete subclasses to support those two methods.\n",
    "      - Python enforces this expectation, by disallowing instantiation for any subclass that does not override the abstract methods with concrete implementations."
   ]
  },
  {
   "cell_type": "markdown",
   "metadata": {
    "slideshow": {
     "slide_type": "slide"
    }
   },
   "source": [
    "<center>\n",
    "    \n",
    "# 4. Shallow and Deep Copying"
   ]
  },
  {
   "cell_type": "markdown",
   "metadata": {
    "slideshow": {
     "slide_type": "-"
    }
   },
   "source": [
    "* Let's assume that ``warmtones`` denote an existing list of such colors (e.g., oranges, browns).\n",
    "* We wish to create a new list named ``palette``, which is a copy of the ``warmtones`` list.\n",
    "* We want to subsequently be able to add additional colors to ``palette``, or to modify or remove some of the existing colors, without affecting the contents of ``warmtones``."
   ]
  },
  {
   "cell_type": "markdown",
   "metadata": {
    "slideshow": {
     "slide_type": "fragment"
    }
   },
   "source": [
    "``palette = warmtones``\n",
    "\n",
    "<img src=\"img/Qimage-8.JPG\" width=\"500\"/>\n",
    "    \n",
    "* Unfortunately, this does not meet our desired criteria, because if we subsequently add or remove colors from “palette,” we modify the list identified as warmtones."
   ]
  },
  {
   "cell_type": "markdown",
   "metadata": {
    "slideshow": {
     "slide_type": "slide"
    }
   },
   "source": [
    "* We can instead create a new instance of the list class by using the syntax:\n",
    "``palette = list(warmtones)``"
   ]
  },
  {
   "cell_type": "markdown",
   "metadata": {
    "slideshow": {
     "slide_type": "fragment"
    }
   },
   "source": [
    "* This is known as a **_shallow copy_**\n",
    "\n",
    "<center>\n",
    "<img src=\"img/Qimage-9.JPG\" width=\"900\"/>"
   ]
  },
  {
   "cell_type": "markdown",
   "metadata": {
    "slideshow": {
     "slide_type": "fragment"
    }
   },
   "source": [
    "* The new list is initialized so that its contents are precisely the same as the original sequence.\n",
    "* This is a better situation. \n",
    "* However, if we edit a ``color`` instance from the ``palette`` list, we effectively change the contents of ``warmtones``."
   ]
  },
  {
   "cell_type": "markdown",
   "metadata": {
    "slideshow": {
     "slide_type": "slide"
    }
   },
   "source": [
    "* We prefer that ``palette`` be what is known as a **_deep copy_** of ``warmtones``.\n",
    "* In a deep copy, the new copy references its own copies of those objects referenced by the original version.\n",
    "\n",
    "<center>\n",
    "<img src=\"img/Qimage-10.JPG\" width=\"1100\"/>"
   ]
  },
  {
   "cell_type": "markdown",
   "metadata": {
    "slideshow": {
     "slide_type": "fragment"
    }
   },
   "source": [
    "### Python’s copy Module\n",
    "\n",
    "* Python provides a very convenient module, named ``copy``, that can produce both **_shallow copies_** and **_deep copies_** of arbitrary objects.\n",
    "* This module supports two functions:\n",
    "    1. The ``copy`` function creates a **_shallow copy_** of its argument\n",
    "    2. the ``deepcopy`` function creates a **_deep copy_** of its argument."
   ]
  },
  {
   "cell_type": "markdown",
   "metadata": {
    "slideshow": {
     "slide_type": "fragment"
    }
   },
   "source": [
    "``palette = copy.deepcopy(warmtones)``"
   ]
  },
  {
   "cell_type": "markdown",
   "metadata": {
    "slideshow": {
     "slide_type": "slide"
    }
   },
   "source": [
    "<center>\n",
    "    \n",
    "# 5. Exercices"
   ]
  },
  {
   "cell_type": "markdown",
   "metadata": {
    "slideshow": {
     "slide_type": "-"
    }
   },
   "source": [
    "**Ex1.** \n",
    "\n",
    "Write a Python program to simulate an ecosystem containing two types of creatures, **_bears_** and **_fish_**. The ecosystem consists of a river, which is modeled as a relatively large list. Each element of the list should be a _Bear_ object, a _Fish_ object, or _None_. In each time step, based on a random process, each animal either attempts to move into an adjacent list location or stay where it is. If two animals of the same type are about to collide in the same cell, then they stay where they are, but they create a new instance of that type of animal, which is placed in a random empty (i.e., previously _None_) location in the list. If a _bear_ and a _fish_ collide, however, then the fish died (i.e., it disappears)."
   ]
  },
  {
   "cell_type": "markdown",
   "metadata": {
    "slideshow": {
     "slide_type": "slide"
    }
   },
   "source": [
    "**Hint:** \n",
    "\n",
    "1. You should first define ``Creature`` and its subclasses; ``Bear`` and ``Fish``.\n",
    "2. Then, you need to make your ecosystem, ``River`` class."
   ]
  },
  {
   "cell_type": "code",
   "execution_count": null,
   "metadata": {
    "slideshow": {
     "slide_type": "fragment"
    }
   },
   "outputs": [],
   "source": [
    "from abc import ABCMeta, abstractmethod\n",
    "\n",
    "class Creature(metaclass=ABCMeta):\n",
    "    ### YOUR CODE HERE\n",
    "    \n",
    "\n",
    "class Bear(Creature):\n",
    "    ### YOUR CODE HERE\n",
    "    \n",
    "    \n",
    "class Fish(Creature):\n",
    "    ### YOUR CODE HERE\n",
    "    "
   ]
  },
  {
   "cell_type": "code",
   "execution_count": null,
   "metadata": {
    "slideshow": {
     "slide_type": "-"
    }
   },
   "outputs": [],
   "source": [
    "class River:\n",
    "    \n",
    "    def __init__(self, n):\n",
    "        self.n = n          # Size of the ecosystem\n",
    "        self.eco = None     # Initialize the ecosystem\n",
    "        \n",
    "    ### YOUR CODE HERE"
   ]
  },
  {
   "cell_type": "markdown",
   "metadata": {
    "slideshow": {
     "slide_type": "slide"
    }
   },
   "source": [
    "# Thank you!\n"
   ]
  }
 ],
 "metadata": {
  "celltoolbar": "Slideshow",
  "kernelspec": {
   "display_name": "Python 3 (ipykernel)",
   "language": "python",
   "name": "python3"
  },
  "language_info": {
   "codemirror_mode": {
    "name": "ipython",
    "version": 3
   },
   "file_extension": ".py",
   "mimetype": "text/x-python",
   "name": "python",
   "nbconvert_exporter": "python",
   "pygments_lexer": "ipython3",
   "version": "3.9.7"
  }
 },
 "nbformat": 4,
 "nbformat_minor": 4
}
